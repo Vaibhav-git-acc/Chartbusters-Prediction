{
 "cells": [
  {
   "cell_type": "code",
   "execution_count": null,
   "metadata": {},
   "outputs": [],
   "source": [
    "import xml.etree.ElementTree as ET\n",
    "tree = ET.ElementTree(file='abc.xml')\n",
    "root = tree.getroot()\n",
    "#print (root.tag)\n",
    "for elem in root.findall('./ContextData/Field//'):\n",
    "    #if not (elem.text):\n",
    "        print (elem.tag)\n",
    "        print (\"========================\")\n",
    "        print (elem.text)\n",
    "        print()\n",
    "        print()"
   ]
  }
 ],
 "metadata": {
  "kernelspec": {
   "display_name": "Python 3",
   "language": "python",
   "name": "python3"
  },
  "language_info": {
   "codemirror_mode": {
    "name": "ipython",
    "version": 3
   },
   "file_extension": ".py",
   "mimetype": "text/x-python",
   "name": "python",
   "nbconvert_exporter": "python",
   "pygments_lexer": "ipython3",
   "version": "3.7.0"
  }
 },
 "nbformat": 4,
 "nbformat_minor": 2
}
